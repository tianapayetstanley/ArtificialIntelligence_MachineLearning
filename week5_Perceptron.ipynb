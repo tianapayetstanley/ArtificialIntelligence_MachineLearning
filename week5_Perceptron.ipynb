{
  "nbformat": 4,
  "nbformat_minor": 0,
  "metadata": {
    "colab": {
      "provenance": [],
      "authorship_tag": "ABX9TyMErKBXfL8/o6mUc02vTjiT",
      "include_colab_link": true
    },
    "kernelspec": {
      "name": "python3",
      "display_name": "Python 3"
    },
    "language_info": {
      "name": "python"
    }
  },
  "cells": [
    {
      "cell_type": "markdown",
      "metadata": {
        "id": "view-in-github",
        "colab_type": "text"
      },
      "source": [
        "<a href=\"https://colab.research.google.com/github/tianapayetstanley/ArtificialIntelligence_MachineLearning/blob/main/week5_Perceptron.ipynb\" target=\"_parent\"><img src=\"https://colab.research.google.com/assets/colab-badge.svg\" alt=\"Open In Colab\"/></a>"
      ]
    },
    {
      "cell_type": "code",
      "execution_count": null,
      "metadata": {
        "id": "SBDEEfhe_5gH"
      },
      "outputs": [],
      "source": [
        "from google.colab import drive\n",
        "drive.mount('/content/drive')"
      ]
    },
    {
      "cell_type": "code",
      "source": [
        "#Create the Sum Function\n",
        "def sumofXW(inputs, weights):\n",
        "    return inputs.dot(weights)\n"
      ],
      "metadata": {
        "id": "Vg5AZCg0AVMh"
      },
      "execution_count": 4,
      "outputs": []
    },
    {
      "cell_type": "markdown",
      "source": [],
      "metadata": {
        "id": "ELN1CakBBcHF"
      }
    },
    {
      "cell_type": "code",
      "source": [
        "#create the Step function\n",
        "def step_function(sum_func):\n",
        "  if (sum_func >= 1):\n",
        "    #print(f'The Sum Function is greater than or equal to 1')\n",
        "    return 1\n",
        "  else:\n",
        "        #print(f'The Sum Function is NOT greater than zero')\n",
        "        return 0"
      ],
      "metadata": {
        "id": "5tZuoGyIBnQB"
      },
      "execution_count": 5,
      "outputs": []
    },
    {
      "cell_type": "code",
      "source": [
        "# for weights = [0.7, 0.1]\n",
        "import numpy as np\n",
        "weights = np.array([0.7, 0.1])\n",
        "inputs = np.array([55, 75])\n",
        "s_prob1 = sumofXW(inputs, weights)\n",
        "s_prob1\n",
        "output=step_function(s_prob1 )\n",
        "print(output)"
      ],
      "metadata": {
        "colab": {
          "base_uri": "https://localhost:8080/"
        },
        "id": "VtBnYQv1BybC",
        "outputId": "5fe20bd6-99c9-4c33-903b-d7a63af72fd5"
      },
      "execution_count": 6,
      "outputs": [
        {
          "output_type": "stream",
          "name": "stdout",
          "text": [
            "1\n"
          ]
        }
      ]
    },
    {
      "cell_type": "code",
      "source": [
        "weights = np.array([-0.7, -0.1])\n"
      ],
      "metadata": {
        "id": "kLqG45iGB4mN"
      },
      "execution_count": 7,
      "outputs": []
    },
    {
      "cell_type": "markdown",
      "source": [
        "Result\n",
        "Making a AD gate using two inputs so the input is: X1 X2 i.e two columns having four rows 0 0 ; 0 1; 1 0; 1 1; we have one column vector for output having (4,1) dimension Lets also assume we have one output neuorn and one weight vector w1 and w2 image.png\n",
        "\n",
        "image.png"
      ],
      "metadata": {
        "id": "aqfN3FVMCJrU"
      }
    },
    {
      "cell_type": "code",
      "source": [
        "# Decalre a matrix for X1 and X2  having four rows.\n",
        "import numpy as np\n",
        "inputs = np.array([[0,0], [0,1], [1,0], [1,1]])\n",
        "#checking the shape of the input matrix\n",
        "# it is two dimension matrix haing 4 rows and 2 columns.\n",
        "print(inputs.shape)"
      ],
      "metadata": {
        "colab": {
          "base_uri": "https://localhost:8080/"
        },
        "id": "VBonj9yuCFlg",
        "outputId": "3f31a7d5-7866-42a9-9c60-5ecab3323b9a"
      },
      "execution_count": 8,
      "outputs": [
        {
          "output_type": "stream",
          "name": "stdout",
          "text": [
            "(4, 2)\n"
          ]
        }
      ]
    },
    {
      "cell_type": "code",
      "source": [
        "# create a output y having four rowa\n",
        "outputs = np.array([0, 0, 0, 1])\n",
        "#Checking the shape of the outputs\n",
        "# note it has one row  vector having 4 elements\n",
        "print(outputs.shape)"
      ],
      "metadata": {
        "colab": {
          "base_uri": "https://localhost:8080/"
        },
        "id": "ZifJA1bXCTUW",
        "outputId": "7282b6d0-3a86-4943-8461-7a4cc39430be"
      },
      "execution_count": 9,
      "outputs": [
        {
          "output_type": "stream",
          "name": "stdout",
          "text": [
            "(4,)\n"
          ]
        }
      ]
    },
    {
      "cell_type": "code",
      "source": [
        "#create a weight vector W1 and W2\n",
        "# one weight for x1 and one for x2\n",
        "weights = np.array([0.0, 0.0])\n",
        "print(weights.shape)"
      ],
      "metadata": {
        "colab": {
          "base_uri": "https://localhost:8080/"
        },
        "id": "i-kWqRjvCR0O",
        "outputId": "5d4b6caa-2795-4c79-9a67-517a2fe2e1fc"
      },
      "execution_count": 10,
      "outputs": [
        {
          "output_type": "stream",
          "name": "stdout",
          "text": [
            "(2,)\n"
          ]
        }
      ]
    },
    {
      "cell_type": "code",
      "source": [
        "#calculate sum XW\n",
        "# calcuate the dot product for each instance in the input\n",
        "# also Note the output  of the preceptron for the given sample. does it perform AND operation?\n",
        "for i in range(len(inputs)):\n",
        "  print(\"sample is\", inputs[i] )\n",
        "  XW=sumofXW(inputs[i], weights)\n",
        "  print (\"sum of product of the first instance is\",XW)\n",
        "  OP=step_function(XW)\n",
        "  print( \"step function output for given sample\",OP,\"\\n\")"
      ],
      "metadata": {
        "colab": {
          "base_uri": "https://localhost:8080/"
        },
        "id": "1iR1xNtfCaKm",
        "outputId": "c390c009-a79a-41aa-fc21-7502db77d56b"
      },
      "execution_count": 11,
      "outputs": [
        {
          "output_type": "stream",
          "name": "stdout",
          "text": [
            "sample is [0 0]\n",
            "sum of product of the first instance is 0.0\n",
            "step function output for given sample 0 \n",
            "\n",
            "sample is [0 1]\n",
            "sum of product of the first instance is 0.0\n",
            "step function output for given sample 0 \n",
            "\n",
            "sample is [1 0]\n",
            "sum of product of the first instance is 0.0\n",
            "step function output for given sample 0 \n",
            "\n",
            "sample is [1 1]\n",
            "sum of product of the first instance is 0.0\n",
            "step function output for given sample 0 \n",
            "\n"
          ]
        }
      ]
    },
    {
      "cell_type": "markdown",
      "source": [
        "As you can see the with the given weights the perceptron does not perform AND operation hence we need to train the perceptron. for this we need to find out the weights during training.\n",
        "\n",
        "New weights= oldweight +LRErrorinput we use this in the training function given below\n",
        "\n"
      ],
      "metadata": {
        "id": "3OrMrFwqClbR"
      }
    },
    {
      "cell_type": "code",
      "source": [
        "weights = np.array([0.0, 0.0])\n"
      ],
      "metadata": {
        "id": "87491JiLChSV"
      },
      "execution_count": 12,
      "outputs": []
    },
    {
      "cell_type": "code",
      "source": [
        "LR=0.1\n",
        "\n",
        "def train():\n",
        "    #\n",
        "\n",
        "    print(\"Tweights\",weights)\n",
        "\n",
        "    total_error_value = 1\n",
        "    # While the total_error_value is not equal to zero. we are asumming that at the start of running our network there will be no zero\n",
        "    while (total_error_value != 0):\n",
        "        #making the total_error 0 so we can do other calculations\n",
        "        total_error_value = 0\n",
        "        #Looping into each row of the dataset (remember indexing in python starts at zero hence 0-3 which are 4 values)\n",
        "        for i in range(len(outputs)):\n",
        "            #Calculating predictions\n",
        "            XW=sumofXW(inputs[i], weights)\n",
        "            prediction = step_function(XW)\n",
        "            # Calculating the absolute value of the error\n",
        "            error = abs(outputs[i] - prediction)\n",
        "            print(\"error\",error)\n",
        "            #Updating the error\n",
        "            total_error_value  += error\n",
        "\n",
        "            if error > 0:\n",
        "                for j in range(len(weights)):\n",
        "                    #updating the weights for x1 and x2\n",
        "                    weights[j] = weights[j] + (LR * inputs[i][j] * error)\n",
        "                    print('Weight updated to: ' + str(weights[j]))\n",
        "        print('Total error Value: ' + str(total_error_value))"
      ],
      "metadata": {
        "id": "wQf0agP4CsCQ"
      },
      "execution_count": 13,
      "outputs": []
    },
    {
      "cell_type": "code",
      "source": [
        "train()\n",
        "print(weights)"
      ],
      "metadata": {
        "colab": {
          "base_uri": "https://localhost:8080/"
        },
        "id": "9Fp_l_z_CvWk",
        "outputId": "0915cbba-536d-4b02-c17e-eb9b0cc85196"
      },
      "execution_count": 14,
      "outputs": [
        {
          "output_type": "stream",
          "name": "stdout",
          "text": [
            "Tweights [0. 0.]\n",
            "error 0\n",
            "error 0\n",
            "error 0\n",
            "error 1\n",
            "Weight updated to: 0.1\n",
            "Weight updated to: 0.1\n",
            "Total error Value: 1\n",
            "error 0\n",
            "error 0\n",
            "error 0\n",
            "error 1\n",
            "Weight updated to: 0.2\n",
            "Weight updated to: 0.2\n",
            "Total error Value: 1\n",
            "error 0\n",
            "error 0\n",
            "error 0\n",
            "error 1\n",
            "Weight updated to: 0.30000000000000004\n",
            "Weight updated to: 0.30000000000000004\n",
            "Total error Value: 1\n",
            "error 0\n",
            "error 0\n",
            "error 0\n",
            "error 1\n",
            "Weight updated to: 0.4\n",
            "Weight updated to: 0.4\n",
            "Total error Value: 1\n",
            "error 0\n",
            "error 0\n",
            "error 0\n",
            "error 1\n",
            "Weight updated to: 0.5\n",
            "Weight updated to: 0.5\n",
            "Total error Value: 1\n",
            "error 0\n",
            "error 0\n",
            "error 0\n",
            "error 0\n",
            "Total error Value: 0\n",
            "[0.5 0.5]\n"
          ]
        }
      ]
    },
    {
      "cell_type": "markdown",
      "source": [
        "Now we have the final weights that will be used to classify new instances of the data after training. lets use our trained perceptron to find the output of the AND gate for every input sample.\n",
        "\n"
      ],
      "metadata": {
        "id": "b8xcXNc8C93u"
      }
    },
    {
      "cell_type": "code",
      "source": [
        "print(weights)\n",
        "for i in range(len(inputs)):\n",
        "  print(\"sample is\", inputs[i] )\n",
        "  XW=sumofXW(inputs[i], weights)\n",
        "\n",
        "  OP=step_function(XW)\n",
        "  print( \"step function output for given sample\",OP,\"\\n\")"
      ],
      "metadata": {
        "colab": {
          "base_uri": "https://localhost:8080/"
        },
        "id": "5LLpmW7kDAPU",
        "outputId": "055a8e2a-8432-4caf-d32f-20cb7532c8b4"
      },
      "execution_count": 15,
      "outputs": [
        {
          "output_type": "stream",
          "name": "stdout",
          "text": [
            "[0.5 0.5]\n",
            "sample is [0 0]\n",
            "step function output for given sample 0 \n",
            "\n",
            "sample is [0 1]\n",
            "step function output for given sample 0 \n",
            "\n",
            "sample is [1 0]\n",
            "step function output for given sample 0 \n",
            "\n",
            "sample is [1 1]\n",
            "step function output for given sample 1 \n",
            "\n"
          ]
        }
      ]
    }
  ]
}